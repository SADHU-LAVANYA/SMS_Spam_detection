{
 "cells": [
  {
   "cell_type": "code",
   "execution_count": 22,
   "id": "3d894b66-a333-4343-8281-eb4b3d32e348",
   "metadata": {},
   "outputs": [],
   "source": [
    "import numpy as np \n",
    "import pandas as pd\n",
    "import numpy as np \n",
    "import pandas as pd\n",
    "import re\n",
    "from collections import defaultdict\n",
    "from math import log, exp\n",
    "import nltk\n",
    "from math import *\n",
    "import os\n",
    "for dirname, _, filenames in os.walk('/kaggle/input'):\n",
    "    for filename in filenames:\n",
    "        print(os.path.join(dirname, filename))"
   ]
  },
  {
   "cell_type": "markdown",
   "id": "79e1a14c-8704-472e-b36b-fe6792216a9e",
   "metadata": {},
   "source": [
    "# Bayesian Filtering"
   ]
  },
  {
   "cell_type": "code",
   "execution_count": 31,
   "id": "b1851d8e-611b-4183-a10c-23686ccd1b0e",
   "metadata": {},
   "outputs": [
    {
     "data": {
      "text/html": [
       "<div>\n",
       "<style scoped>\n",
       "    .dataframe tbody tr th:only-of-type {\n",
       "        vertical-align: middle;\n",
       "    }\n",
       "\n",
       "    .dataframe tbody tr th {\n",
       "        vertical-align: top;\n",
       "    }\n",
       "\n",
       "    .dataframe thead th {\n",
       "        text-align: right;\n",
       "    }\n",
       "</style>\n",
       "<table border=\"1\" class=\"dataframe\">\n",
       "  <thead>\n",
       "    <tr style=\"text-align: right;\">\n",
       "      <th></th>\n",
       "      <th>v1</th>\n",
       "      <th>v2</th>\n",
       "      <th>Unnamed: 2</th>\n",
       "      <th>Unnamed: 3</th>\n",
       "      <th>Unnamed: 4</th>\n",
       "    </tr>\n",
       "  </thead>\n",
       "  <tbody>\n",
       "    <tr>\n",
       "      <th>0</th>\n",
       "      <td>ham</td>\n",
       "      <td>Go until jurong point, crazy.. Available only ...</td>\n",
       "      <td>NaN</td>\n",
       "      <td>NaN</td>\n",
       "      <td>NaN</td>\n",
       "    </tr>\n",
       "    <tr>\n",
       "      <th>1</th>\n",
       "      <td>ham</td>\n",
       "      <td>Ok lar... Joking wif u oni...</td>\n",
       "      <td>NaN</td>\n",
       "      <td>NaN</td>\n",
       "      <td>NaN</td>\n",
       "    </tr>\n",
       "    <tr>\n",
       "      <th>2</th>\n",
       "      <td>spam</td>\n",
       "      <td>Free entry in 2 a wkly comp to win FA Cup fina...</td>\n",
       "      <td>NaN</td>\n",
       "      <td>NaN</td>\n",
       "      <td>NaN</td>\n",
       "    </tr>\n",
       "    <tr>\n",
       "      <th>3</th>\n",
       "      <td>ham</td>\n",
       "      <td>U dun say so early hor... U c already then say...</td>\n",
       "      <td>NaN</td>\n",
       "      <td>NaN</td>\n",
       "      <td>NaN</td>\n",
       "    </tr>\n",
       "    <tr>\n",
       "      <th>4</th>\n",
       "      <td>ham</td>\n",
       "      <td>Nah I don't think he goes to usf, he lives aro...</td>\n",
       "      <td>NaN</td>\n",
       "      <td>NaN</td>\n",
       "      <td>NaN</td>\n",
       "    </tr>\n",
       "  </tbody>\n",
       "</table>\n",
       "</div>"
      ],
      "text/plain": [
       "     v1                                                 v2 Unnamed: 2  \\\n",
       "0   ham  Go until jurong point, crazy.. Available only ...        NaN   \n",
       "1   ham                      Ok lar... Joking wif u oni...        NaN   \n",
       "2  spam  Free entry in 2 a wkly comp to win FA Cup fina...        NaN   \n",
       "3   ham  U dun say so early hor... U c already then say...        NaN   \n",
       "4   ham  Nah I don't think he goes to usf, he lives aro...        NaN   \n",
       "\n",
       "  Unnamed: 3 Unnamed: 4  \n",
       "0        NaN        NaN  \n",
       "1        NaN        NaN  \n",
       "2        NaN        NaN  \n",
       "3        NaN        NaN  \n",
       "4        NaN        NaN  "
      ]
     },
     "metadata": {},
     "output_type": "display_data"
    },
    {
     "name": "stdout",
     "output_type": "stream",
     "text": [
      "<class 'pandas.core.frame.DataFrame'>\n",
      "RangeIndex: 5572 entries, 0 to 5571\n",
      "Data columns (total 5 columns):\n",
      " #   Column      Non-Null Count  Dtype \n",
      "---  ------      --------------  ----- \n",
      " 0   v1          5572 non-null   object\n",
      " 1   v2          5572 non-null   object\n",
      " 2   Unnamed: 2  50 non-null     object\n",
      " 3   Unnamed: 3  12 non-null     object\n",
      " 4   Unnamed: 4  6 non-null      object\n",
      "dtypes: object(5)\n",
      "memory usage: 217.8+ KB\n",
      "None\n"
     ]
    }
   ],
   "source": [
    "spam_data = pd.read_csv('spam.csv',encoding = 'latin-1')\n",
    "display(spam_data.head())\n",
    "print(spam_data.info())"
   ]
  },
  {
   "cell_type": "code",
   "execution_count": 33,
   "id": "5d8ffee9-3a35-4be1-9346-c2b56cb6ca4c",
   "metadata": {},
   "outputs": [
    {
     "data": {
      "text/plain": [
       "np.int64(0)"
      ]
     },
     "execution_count": 33,
     "metadata": {},
     "output_type": "execute_result"
    }
   ],
   "source": [
    "data= spam_data.drop_duplicates(keep='first')\n",
    "data.duplicated().sum()"
   ]
  },
  {
   "cell_type": "code",
   "execution_count": 35,
   "id": "1cb2d285-7484-4aa3-b013-f19d7ae6dc7f",
   "metadata": {},
   "outputs": [
    {
     "name": "stderr",
     "output_type": "stream",
     "text": [
      "C:\\Users\\Lavanya sadhu\\AppData\\Local\\Temp\\ipykernel_6380\\447836908.py:7: SettingWithCopyWarning: \n",
      "A value is trying to be set on a copy of a slice from a DataFrame.\n",
      "Try using .loc[row_indexer,col_indexer] = value instead\n",
      "\n",
      "See the caveats in the documentation: https://pandas.pydata.org/pandas-docs/stable/user_guide/indexing.html#returning-a-view-versus-a-copy\n",
      "  data.loc[:, \"Clean_Text\"] = data[\"v2\"].apply(clean_text)\n"
     ]
    }
   ],
   "source": [
    "def clean_text(text):\n",
    "    clean = re.sub('[^a-zA-Z]', ' ', text)\n",
    "    clean = clean.lower()\n",
    "    clean = clean.split() \n",
    "    clean = ' '.join(clean)\n",
    "    return clean\n",
    "data.loc[:, \"Clean_Text\"] = data[\"v2\"].apply(clean_text)"
   ]
  },
  {
   "cell_type": "code",
   "execution_count": 37,
   "id": "9026e293-2fa9-4513-b662-49b14becb7a5",
   "metadata": {},
   "outputs": [
    {
     "data": {
      "text/plain": [
       "0       Go until jurong point, crazy.. Available only ...\n",
       "1                           Ok lar... Joking wif u oni...\n",
       "2       Free entry in 2 a wkly comp to win FA Cup fina...\n",
       "3       U dun say so early hor... U c already then say...\n",
       "4       Nah I don't think he goes to usf, he lives aro...\n",
       "                              ...                        \n",
       "5567    This is the 2nd time we have tried 2 contact u...\n",
       "5568                Will Ì_ b going to esplanade fr home?\n",
       "5569    Pity, * was in mood for that. So...any other s...\n",
       "5570    The guy did some bitching but I acted like i'd...\n",
       "5571                           Rofl. Its true to its name\n",
       "Name: v2, Length: 5572, dtype: object"
      ]
     },
     "execution_count": 37,
     "metadata": {},
     "output_type": "execute_result"
    }
   ],
   "source": [
    "messages = spam_data['v2']\n",
    "messages"
   ]
  },
  {
   "cell_type": "code",
   "execution_count": 39,
   "id": "7c763ba2-32c3-4aa9-8bff-68611d5ee344",
   "metadata": {},
   "outputs": [
    {
     "data": {
      "text/plain": [
       "0        ham\n",
       "1        ham\n",
       "2       spam\n",
       "3        ham\n",
       "4        ham\n",
       "        ... \n",
       "5567    spam\n",
       "5568     ham\n",
       "5569     ham\n",
       "5570     ham\n",
       "5571     ham\n",
       "Name: v1, Length: 5572, dtype: object"
      ]
     },
     "execution_count": 39,
     "metadata": {},
     "output_type": "execute_result"
    }
   ],
   "source": [
    "labels = spam_data['v1']\n",
    "labels"
   ]
  },
  {
   "cell_type": "code",
   "execution_count": 41,
   "id": "9a8e2e66-a530-4510-9e0e-e3f2a36ab507",
   "metadata": {},
   "outputs": [],
   "source": [
    "class BayesianSpamFilter:\n",
    "    def __init__(self):\n",
    "        self.spam_word_counts = defaultdict(int)\n",
    "        self.ham_word_counts = defaultdict(int)\n",
    "        self.total_spam_words = 0\n",
    "        self.total_ham_words = 0\n",
    "        self.total_spam_messages = 0\n",
    "        self.total_ham_messages = 0\n",
    "\n",
    "    def train(self, messages, labels):\n",
    "        for message, label in zip(messages, labels):\n",
    "            words = self.extract_words(message)\n",
    "            if label == 'spam':\n",
    "                self.total_spam_messages += 1\n",
    "                for word in words:\n",
    "                    self.spam_word_counts[word] += 1\n",
    "                    self.total_spam_words += 1\n",
    "            else:\n",
    "                self.total_ham_messages += 1\n",
    "                for word in words:\n",
    "                    self.ham_word_counts[word] += 1\n",
    "                    self.total_ham_words += 1\n",
    "\n",
    "    def extract_words(self, message):\n",
    "        return re.findall(r'\\b\\w+\\b', message.lower())\n",
    "\n",
    "    def calculate_word_probabilities(self, message):\n",
    "        words = self.extract_words(message)\n",
    "        log_spam_probability = log(self.total_spam_messages / (self.total_spam_messages + self.total_ham_messages))\n",
    "        log_ham_probability = log(self.total_ham_messages / (self.total_spam_messages + self.total_ham_messages))\n",
    "        for word in words:\n",
    "            # Laplace smoothing\n",
    "            spam_word_probability = (self.spam_word_counts[word] + 1) / (self.total_spam_words + 2)\n",
    "            ham_word_probability = (self.ham_word_counts[word] + 1) / (self.total_ham_words + 2)\n",
    "            log_spam_probability += log(spam_word_probability)\n",
    "            log_ham_probability += log(ham_word_probability)\n",
    "        return log_spam_probability, log_ham_probability\n",
    "\n",
    "    def classify(self, message):\n",
    "        log_spam_probability, log_ham_probability = self.calculate_word_probabilities(message)\n",
    "        # Calculate spam probability using the logistic function on the difference of log probabilities\n",
    "        # to get a probability between 0 and 1\n",
    "        probability_difference = log_spam_probability - log_ham_probability\n",
    "        spam_probability = 1 / (1 + exp(-probability_difference))\n",
    "        return spam_probability"
   ]
  },
  {
   "cell_type": "code",
   "execution_count": 43,
   "id": "787cdd05-58a4-4a06-851e-681edc9f5a08",
   "metadata": {},
   "outputs": [],
   "source": [
    "filter = BayesianSpamFilter()\n",
    "filter.train(messages, labels)"
   ]
  },
  {
   "cell_type": "markdown",
   "id": "95f62a02-03da-4f5e-bd04-6466f30757bf",
   "metadata": {},
   "source": [
    "test_message = \"Free entry in 2 a wkly comp\"\n",
    "spam_probability = filter.classify(test_message)\n",
    "print(\"Spam probability:\", spam_probability)"
   ]
  },
  {
   "cell_type": "code",
   "execution_count": 49,
   "id": "369edecd-95d3-44b7-aa74-3936fec6e564",
   "metadata": {},
   "outputs": [
    {
     "name": "stdout",
     "output_type": "stream",
     "text": [
      "Spam probability: 0.9999942104611959\n"
     ]
    }
   ],
   "source": [
    "test_message = \"Free entry in 2 a wkly comp\"\n",
    "spam_probability = filter.classify(test_message)\n",
    "print(\"Spam probability:\", spam_probability)"
   ]
  },
  {
   "cell_type": "markdown",
   "id": "d5f4b40d-fa6d-4e72-98f9-552453d79ba4",
   "metadata": {},
   "source": [
    "# Heuristic Filtering"
   ]
  },
  {
   "cell_type": "code",
   "execution_count": 51,
   "id": "1f4869d0-d3ba-44f1-a859-3fde745ea4bc",
   "metadata": {},
   "outputs": [],
   "source": [
    "import re\n",
    "\n",
    "class HeuristicSpamFilter:\n",
    "    def __init__(self):\n",
    "        self.suspicious_keywords = ['free', 'buy now', 'winner', 'guaranteed', 'act now']\n",
    "        self.spammy_patterns = [r'\\b\\d{4,}\\b']  # Example: 4 or more consecutive digits\n",
    "        # Adding a simple regex pattern to identify URLs; this can be enhanced for more robust detection\n",
    "        self.url_pattern = r'https?://(?:[-\\w.]|(?:%[\\da-fA-F]{2}))+'\n",
    "\n",
    "    def check_keywords(self, message):\n",
    "        for keyword in self.suspicious_keywords:\n",
    "            if keyword in message.lower():\n",
    "                return True\n",
    "        return False\n",
    "\n",
    "    def check_structure(self, message):\n",
    "        for pattern in self.spammy_patterns:\n",
    "            if re.search(pattern, message):\n",
    "                return True\n",
    "        return False\n",
    "\n",
    "    def check_urls(self, message):\n",
    "        return re.search(self.url_pattern, message) is not None\n",
    "\n",
    "    def is_spam(self, message):\n",
    "        if self.check_keywords(message):\n",
    "            return 'spam'\n",
    "        if self.check_structure(message):\n",
    "            return 'spam'\n",
    "        if self.check_urls(message):\n",
    "            return 'spam'\n",
    "        return 'ham'"
   ]
  },
  {
   "cell_type": "code",
   "execution_count": 53,
   "id": "bc6ba469-3c4c-4c27-854f-0712216af391",
   "metadata": {},
   "outputs": [
    {
     "name": "stdout",
     "output_type": "stream",
     "text": [
      "0.970208183776023\n"
     ]
    }
   ],
   "source": [
    "filterh = HeuristicSpamFilter()\n",
    "\n",
    "# Apply the filter to classify each SMS message\n",
    "spam = messages.apply(filterh.is_spam)\n",
    "accuracy = (spam == labels).mean()\n",
    "# Display the classified messages\n",
    "print(accuracy) "
   ]
  },
  {
   "cell_type": "markdown",
   "id": "9ba7af64-104f-4208-aa56-3ce83e7041f7",
   "metadata": {},
   "source": [
    "# CollaborativeSpamFilter"
   ]
  },
  {
   "cell_type": "code",
   "execution_count": 62,
   "id": "440df2ba-77f9-4bd1-806d-4368824d88e8",
   "metadata": {},
   "outputs": [
    {
     "name": "stdout",
     "output_type": "stream",
     "text": [
      "0       ham\n",
      "1       ham\n",
      "2       ham\n",
      "3       ham\n",
      "4       ham\n",
      "       ... \n",
      "5567    ham\n",
      "5568    ham\n",
      "5569    ham\n",
      "5570    ham\n",
      "5571    ham\n",
      "Name: v2, Length: 5572, dtype: object\n"
     ]
    }
   ],
   "source": [
    "import pandas as pd\n",
    "\n",
    "class CollaborativeSpamFilter:\n",
    "    def __init__(self):\n",
    "        self.spam_reports = {}  # Dictionary to store spam reports for each message\n",
    "\n",
    "    def report_spam(self, message):\n",
    "        if message in self.spam_reports:\n",
    "            self.spam_reports[message] += 1\n",
    "        else:\n",
    "            self.spam_reports[message] = 1\n",
    "\n",
    "    def is_spam(self, message, threshold=3):\n",
    "        if message in self.spam_reports:\n",
    "            if self.spam_reports[message] >= threshold:\n",
    "                return 'spam'\n",
    "            else:\n",
    "                return 'ham'\n",
    "        return 'ham'\n",
    "\n",
    "# Example usage\n",
    "filter = CollaborativeSpamFilter()\n",
    "\n",
    "# Load the SMS spam dataset  # Update with the actual filename and path\n",
    "\n",
    "# Choose messages labeled as spam to add to the report\n",
    "spam_messages = messages[labels == 'spam']\n",
    "\n",
    "# Simulate user feedback by reporting spam messages\n",
    "for message in spam_messages:\n",
    "    filter.report_spam(message)\n",
    "\n",
    "# Apply the filter to classify messages\n",
    "isspam = messages.apply(lambda message: filter.is_spam(message))\n",
    "\n",
    "# Display the classified messages\n",
    "print(isspam)"
   ]
  },
  {
   "cell_type": "code",
   "execution_count": 57,
   "id": "6ed306e6-ba8a-4b51-baf9-67806f5cad5e",
   "metadata": {},
   "outputs": [
    {
     "name": "stdout",
     "output_type": "stream",
     "text": [
      "0.8693467336683417\n"
     ]
    }
   ],
   "source": [
    "accuracy = (isspam == labels).mean()\n",
    "# Display the classified messages\n",
    "print(accuracy )"
   ]
  },
  {
   "cell_type": "code",
   "execution_count": null,
   "id": "de1dcd11-be0a-476e-a49e-2eaea7f8f43e",
   "metadata": {},
   "outputs": [],
   "source": []
  }
 ],
 "metadata": {
  "kernelspec": {
   "display_name": "Python 3 (ipykernel)",
   "language": "python",
   "name": "python3"
  },
  "language_info": {
   "codemirror_mode": {
    "name": "ipython",
    "version": 3
   },
   "file_extension": ".py",
   "mimetype": "text/x-python",
   "name": "python",
   "nbconvert_exporter": "python",
   "pygments_lexer": "ipython3",
   "version": "3.12.4"
  }
 },
 "nbformat": 4,
 "nbformat_minor": 5
}
